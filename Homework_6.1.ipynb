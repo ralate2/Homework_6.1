{
 "cells": [
  {
   "cell_type": "markdown",
   "id": "f6020517",
   "metadata": {},
   "source": [
    "## Homework_6.1 \n",
    "\n",
    "- Submitted by Ruchita Alate"
   ]
  },
  {
   "cell_type": "markdown",
   "id": "fa9928e0",
   "metadata": {},
   "source": [
    "### Loading Necessary Libraries"
   ]
  },
  {
   "cell_type": "code",
   "execution_count": 1,
   "id": "55b4e21c",
   "metadata": {},
   "outputs": [
    {
     "data": {
      "text/plain": [
       "DataTransformerRegistry.enable('default')"
      ]
     },
     "execution_count": 1,
     "metadata": {},
     "output_type": "execute_result"
    }
   ],
   "source": [
    "import pandas as pd\n",
    "import altair as alt\n",
    "\n",
    "alt.data_transformers.disable_max_rows()"
   ]
  },
  {
   "cell_type": "markdown",
   "id": "205049a0",
   "metadata": {},
   "source": [
    "### Reading the dataset"
   ]
  },
  {
   "cell_type": "code",
   "execution_count": 2,
   "id": "100fb578",
   "metadata": {},
   "outputs": [
    {
     "data": {
      "text/html": [
       "<div>\n",
       "<style scoped>\n",
       "    .dataframe tbody tr th:only-of-type {\n",
       "        vertical-align: middle;\n",
       "    }\n",
       "\n",
       "    .dataframe tbody tr th {\n",
       "        vertical-align: top;\n",
       "    }\n",
       "\n",
       "    .dataframe thead th {\n",
       "        text-align: right;\n",
       "    }\n",
       "</style>\n",
       "<table border=\"1\" class=\"dataframe\">\n",
       "  <thead>\n",
       "    <tr style=\"text-align: right;\">\n",
       "      <th></th>\n",
       "      <th>_id</th>\n",
       "      <th>License Type</th>\n",
       "      <th>Description</th>\n",
       "      <th>License Number</th>\n",
       "      <th>License Status</th>\n",
       "      <th>Business</th>\n",
       "      <th>Title</th>\n",
       "      <th>First Name</th>\n",
       "      <th>Middle</th>\n",
       "      <th>Last Name</th>\n",
       "      <th>...</th>\n",
       "      <th>Specialty/Qualifier</th>\n",
       "      <th>Controlled Substance Schedule</th>\n",
       "      <th>Delegated Controlled Substance Schedule</th>\n",
       "      <th>Ever Disciplined</th>\n",
       "      <th>LastModifiedDate</th>\n",
       "      <th>Case Number</th>\n",
       "      <th>Action</th>\n",
       "      <th>Discipline Start Date</th>\n",
       "      <th>Discipline End Date</th>\n",
       "      <th>Discipline Reason</th>\n",
       "    </tr>\n",
       "  </thead>\n",
       "  <tbody>\n",
       "    <tr>\n",
       "      <th>0</th>\n",
       "      <td>1189509</td>\n",
       "      <td>DETECTIVE BOARD</td>\n",
       "      <td>PERMANENT EMPLOYEE REGISTRATION</td>\n",
       "      <td>129446286</td>\n",
       "      <td>NOT RENEWED</td>\n",
       "      <td>N</td>\n",
       "      <td>NaN</td>\n",
       "      <td>EILEEN</td>\n",
       "      <td>NaN</td>\n",
       "      <td>SANTACRUZ</td>\n",
       "      <td>...</td>\n",
       "      <td>None</td>\n",
       "      <td>None</td>\n",
       "      <td>None</td>\n",
       "      <td>N</td>\n",
       "      <td>03/18/2022</td>\n",
       "      <td>None</td>\n",
       "      <td>None</td>\n",
       "      <td>None</td>\n",
       "      <td>None</td>\n",
       "      <td>None</td>\n",
       "    </tr>\n",
       "    <tr>\n",
       "      <th>1</th>\n",
       "      <td>801037</td>\n",
       "      <td>DETECTIVE BOARD</td>\n",
       "      <td>FIREARM CONTROL CARD</td>\n",
       "      <td>229030294.0</td>\n",
       "      <td>NOT RENEWED</td>\n",
       "      <td>N</td>\n",
       "      <td>NaN</td>\n",
       "      <td>DAGMAR</td>\n",
       "      <td>J</td>\n",
       "      <td>NORDLUND</td>\n",
       "      <td>...</td>\n",
       "      <td>None</td>\n",
       "      <td>None</td>\n",
       "      <td>None</td>\n",
       "      <td>N</td>\n",
       "      <td>08/16/2006</td>\n",
       "      <td>None</td>\n",
       "      <td>None</td>\n",
       "      <td>None</td>\n",
       "      <td>None</td>\n",
       "      <td>None</td>\n",
       "    </tr>\n",
       "    <tr>\n",
       "      <th>2</th>\n",
       "      <td>365129</td>\n",
       "      <td>COSMO</td>\n",
       "      <td>LICENSED COSMETOLOGIST</td>\n",
       "      <td>11053076.0</td>\n",
       "      <td>NOT RENEWED</td>\n",
       "      <td>N</td>\n",
       "      <td>NaN</td>\n",
       "      <td>RADOJE</td>\n",
       "      <td>NaN</td>\n",
       "      <td>ZELENOVIC</td>\n",
       "      <td>...</td>\n",
       "      <td>None</td>\n",
       "      <td>None</td>\n",
       "      <td>None</td>\n",
       "      <td>N</td>\n",
       "      <td>05/26/2006</td>\n",
       "      <td>None</td>\n",
       "      <td>None</td>\n",
       "      <td>None</td>\n",
       "      <td>None</td>\n",
       "      <td>None</td>\n",
       "    </tr>\n",
       "    <tr>\n",
       "      <th>3</th>\n",
       "      <td>595427</td>\n",
       "      <td>COSMO</td>\n",
       "      <td>LICENSED COSMETOLOGIST</td>\n",
       "      <td>11295645.0</td>\n",
       "      <td>ACTIVE</td>\n",
       "      <td>N</td>\n",
       "      <td>NaN</td>\n",
       "      <td>BECKY SUE</td>\n",
       "      <td>L</td>\n",
       "      <td>BURROUGHS</td>\n",
       "      <td>...</td>\n",
       "      <td>None</td>\n",
       "      <td>None</td>\n",
       "      <td>None</td>\n",
       "      <td>N</td>\n",
       "      <td>11/12/2021</td>\n",
       "      <td>None</td>\n",
       "      <td>None</td>\n",
       "      <td>None</td>\n",
       "      <td>None</td>\n",
       "      <td>None</td>\n",
       "    </tr>\n",
       "    <tr>\n",
       "      <th>4</th>\n",
       "      <td>653668</td>\n",
       "      <td>COSMO</td>\n",
       "      <td>LICENSED NAIL TECHNICIAN</td>\n",
       "      <td>169006247</td>\n",
       "      <td>NOT RENEWED</td>\n",
       "      <td>N</td>\n",
       "      <td>NaN</td>\n",
       "      <td>BILL G</td>\n",
       "      <td>L</td>\n",
       "      <td>LETNER</td>\n",
       "      <td>...</td>\n",
       "      <td>None</td>\n",
       "      <td>None</td>\n",
       "      <td>None</td>\n",
       "      <td>N</td>\n",
       "      <td>05/30/2006</td>\n",
       "      <td>None</td>\n",
       "      <td>None</td>\n",
       "      <td>None</td>\n",
       "      <td>None</td>\n",
       "      <td>None</td>\n",
       "    </tr>\n",
       "  </tbody>\n",
       "</table>\n",
       "<p>5 rows × 31 columns</p>\n",
       "</div>"
      ],
      "text/plain": [
       "       _id     License Type                      Description License Number  \\\n",
       "0  1189509  DETECTIVE BOARD  PERMANENT EMPLOYEE REGISTRATION      129446286   \n",
       "1   801037  DETECTIVE BOARD             FIREARM CONTROL CARD    229030294.0   \n",
       "2   365129            COSMO           LICENSED COSMETOLOGIST     11053076.0   \n",
       "3   595427            COSMO           LICENSED COSMETOLOGIST     11295645.0   \n",
       "4   653668            COSMO         LICENSED NAIL TECHNICIAN      169006247   \n",
       "\n",
       "  License Status Business Title First Name Middle  Last Name  ...  \\\n",
       "0    NOT RENEWED        N   NaN     EILEEN    NaN  SANTACRUZ  ...   \n",
       "1    NOT RENEWED        N   NaN     DAGMAR      J   NORDLUND  ...   \n",
       "2    NOT RENEWED        N   NaN     RADOJE    NaN  ZELENOVIC  ...   \n",
       "3         ACTIVE        N   NaN  BECKY SUE      L  BURROUGHS  ...   \n",
       "4    NOT RENEWED        N   NaN     BILL G      L     LETNER  ...   \n",
       "\n",
       "  Specialty/Qualifier Controlled Substance Schedule  \\\n",
       "0                None                          None   \n",
       "1                None                          None   \n",
       "2                None                          None   \n",
       "3                None                          None   \n",
       "4                None                          None   \n",
       "\n",
       "  Delegated Controlled Substance Schedule Ever Disciplined LastModifiedDate  \\\n",
       "0                                    None                N       03/18/2022   \n",
       "1                                    None                N       08/16/2006   \n",
       "2                                    None                N       05/26/2006   \n",
       "3                                    None                N       11/12/2021   \n",
       "4                                    None                N       05/30/2006   \n",
       "\n",
       "  Case Number Action Discipline Start Date Discipline End Date  \\\n",
       "0        None   None                  None                None   \n",
       "1        None   None                  None                None   \n",
       "2        None   None                  None                None   \n",
       "3        None   None                  None                None   \n",
       "4        None   None                  None                None   \n",
       "\n",
       "  Discipline Reason  \n",
       "0              None  \n",
       "1              None  \n",
       "2              None  \n",
       "3              None  \n",
       "4              None  \n",
       "\n",
       "[5 rows x 31 columns]"
      ]
     },
     "execution_count": 2,
     "metadata": {},
     "output_type": "execute_result"
    }
   ],
   "source": [
    "# Reading the dataset\n",
    "licenses_url='https://raw.githubusercontent.com/UIUC-iSchool-DataViz/is445_data/main/licenses_fall2022.csv'\n",
    "licenses = pd.read_csv(licenses_url)\n",
    "licenses.head(5)"
   ]
  },
  {
   "cell_type": "markdown",
   "id": "aaa194d0",
   "metadata": {},
   "source": [
    "### Data Pre-processing"
   ]
  },
  {
   "cell_type": "code",
   "execution_count": 3,
   "id": "aa1f3a51",
   "metadata": {
    "scrolled": true
   },
   "outputs": [
    {
     "data": {
      "text/plain": [
       "IL    9026\n",
       "IN     139\n",
       "WI      94\n",
       "MO      91\n",
       "FL      86\n",
       "CA      84\n",
       "TX      62\n",
       "IA      55\n",
       "MI      30\n",
       "AZ      29\n",
       "GA      27\n",
       "OH      21\n",
       "CO      20\n",
       "MN      19\n",
       "NY      19\n",
       "        16\n",
       "KY      16\n",
       "AR      14\n",
       "NC      14\n",
       "VA      14\n",
       "UT      13\n",
       "TN      11\n",
       "NV      10\n",
       "MS      10\n",
       "PA      10\n",
       "WA       9\n",
       "MD       9\n",
       "AL       8\n",
       "SC       7\n",
       "NJ       5\n",
       "KS       5\n",
       "MA       4\n",
       "OR       3\n",
       "MT       3\n",
       "LA       3\n",
       "HI       3\n",
       "OK       2\n",
       "NM       2\n",
       "BC       1\n",
       "ID       1\n",
       "NH       1\n",
       "NE       1\n",
       "ND       1\n",
       "VT       1\n",
       "WY       1\n",
       "Name: State, dtype: int64"
      ]
     },
     "execution_count": 3,
     "metadata": {},
     "output_type": "execute_result"
    }
   ],
   "source": [
    "# Checking the count for each State\n",
    "licenses['State'].value_counts()"
   ]
  },
  {
   "cell_type": "code",
   "execution_count": 4,
   "id": "9fe8be44",
   "metadata": {},
   "outputs": [
    {
     "name": "stdout",
     "output_type": "stream",
     "text": [
      "IL    9026\n",
      "IN     139\n",
      "WI      94\n",
      "MO      91\n",
      "FL      86\n",
      "CA      84\n",
      "TX      62\n",
      "IA      55\n",
      "MI      30\n",
      "AZ      29\n",
      "GA      27\n",
      "OH      21\n",
      "CO      20\n",
      "MN      19\n",
      "NY      19\n",
      "        16\n",
      "KY      16\n",
      "NC      14\n",
      "VA      14\n",
      "AR      14\n",
      "UT      13\n",
      "TN      11\n",
      "MS      10\n",
      "NV      10\n",
      "PA      10\n",
      "Name: State, dtype: int64\n"
     ]
    }
   ],
   "source": [
    "# Filtering the states with 10 or more results and keep it in the 'licenses' DataFrame\n",
    "licenses = licenses.groupby('State').filter(lambda x: len(x) >= 10)\n",
    "\n",
    "# Verifying the filtered data\n",
    "print(licenses['State'].value_counts())"
   ]
  },
  {
   "cell_type": "markdown",
   "id": "10874689",
   "metadata": {},
   "source": [
    "The states with fewer than 10 records were removed, as they contained insufficient data, which did not add value and skewed the visualizations. This filtering allows for a more meaningful distribution of license statuses, focusing on states with a broader dataset to enhance the accuracy and clarity of the visual representation."
   ]
  },
  {
   "cell_type": "code",
   "execution_count": 5,
   "id": "8c03685f",
   "metadata": {},
   "outputs": [
    {
     "name": "stdout",
     "output_type": "stream",
     "text": [
      "<class 'pandas.core.frame.DataFrame'>\n",
      "Int64Index: 9930 entries, 0 to 9999\n",
      "Data columns (total 31 columns):\n",
      " #   Column                                   Non-Null Count  Dtype \n",
      "---  ------                                   --------------  ----- \n",
      " 0   _id                                      9930 non-null   int64 \n",
      " 1   License Type                             9930 non-null   object\n",
      " 2   Description                              9930 non-null   object\n",
      " 3   License Number                           9870 non-null   object\n",
      " 4   License Status                           9930 non-null   object\n",
      " 5   Business                                 9930 non-null   object\n",
      " 6   Title                                    109 non-null    object\n",
      " 7   First Name                               9537 non-null   object\n",
      " 8   Middle                                   3602 non-null   object\n",
      " 9   Last Name                                9537 non-null   object\n",
      " 10  Prefix                                   3 non-null      object\n",
      " 11  Suffix                                   403 non-null    object\n",
      " 12  Business Name                            9930 non-null   object\n",
      " 13  BusinessDBA                              113 non-null    object\n",
      " 14  Original Issue Date                      9930 non-null   object\n",
      " 15  Effective Date                           9153 non-null   object\n",
      " 16  Expiration Date                          9439 non-null   object\n",
      " 17  City                                     9919 non-null   object\n",
      " 18  State                                    9930 non-null   object\n",
      " 19  Zip                                      9859 non-null   object\n",
      " 20  County                                   9526 non-null   object\n",
      " 21  Specialty/Qualifier                      9869 non-null   object\n",
      " 22  Controlled Substance Schedule            9929 non-null   object\n",
      " 23  Delegated Controlled Substance Schedule  9930 non-null   object\n",
      " 24  Ever Disciplined                         9930 non-null   object\n",
      " 25  LastModifiedDate                         9930 non-null   object\n",
      " 26  Case Number                              9930 non-null   object\n",
      " 27  Action                                   9929 non-null   object\n",
      " 28  Discipline Start Date                    9930 non-null   object\n",
      " 29  Discipline End Date                      9930 non-null   object\n",
      " 30  Discipline Reason                        9930 non-null   object\n",
      "dtypes: int64(1), object(30)\n",
      "memory usage: 2.4+ MB\n"
     ]
    }
   ],
   "source": [
    "# Checking the dataset columns and types\n",
    "licenses.info()"
   ]
  },
  {
   "cell_type": "code",
   "execution_count": 6,
   "id": "85ce2b5e",
   "metadata": {},
   "outputs": [
    {
     "data": {
      "text/plain": [
       "(9930, 31)"
      ]
     },
     "execution_count": 6,
     "metadata": {},
     "output_type": "execute_result"
    }
   ],
   "source": [
    "# Checking Data Dimensionality\n",
    "licenses.shape"
   ]
  },
  {
   "cell_type": "code",
   "execution_count": 7,
   "id": "971f7a03",
   "metadata": {},
   "outputs": [
    {
     "name": "stdout",
     "output_type": "stream",
     "text": [
      "_id                                           0\n",
      "License Type                                  0\n",
      "Description                                   0\n",
      "License Number                               60\n",
      "License Status                                0\n",
      "Business                                      0\n",
      "Title                                      9821\n",
      "First Name                                  393\n",
      "Middle                                     6328\n",
      "Last Name                                   393\n",
      "Prefix                                     9927\n",
      "Suffix                                     9527\n",
      "Business Name                                 0\n",
      "BusinessDBA                                9817\n",
      "Original Issue Date                           0\n",
      "Effective Date                              777\n",
      "Expiration Date                             491\n",
      "City                                         11\n",
      "State                                         0\n",
      "Zip                                          71\n",
      "County                                      404\n",
      "Specialty/Qualifier                          61\n",
      "Controlled Substance Schedule                 1\n",
      "Delegated Controlled Substance Schedule       0\n",
      "Ever Disciplined                              0\n",
      "LastModifiedDate                              0\n",
      "Case Number                                   0\n",
      "Action                                        1\n",
      "Discipline Start Date                         0\n",
      "Discipline End Date                           0\n",
      "Discipline Reason                             0\n",
      "dtype: int64\n"
     ]
    }
   ],
   "source": [
    "#Checking for missing values in the dataset\n",
    "missing_values = licenses.isnull().sum()\n",
    "print(missing_values)"
   ]
  },
  {
   "cell_type": "code",
   "execution_count": 8,
   "id": "6500b8dd",
   "metadata": {},
   "outputs": [
    {
     "name": "stdout",
     "output_type": "stream",
     "text": [
      "_id                                         0.000000\n",
      "License Type                                0.000000\n",
      "Description                                 0.000000\n",
      "License Number                              0.604230\n",
      "License Status                              0.000000\n",
      "Business                                    0.000000\n",
      "Title                                      98.902316\n",
      "First Name                                  3.957704\n",
      "Middle                                     63.726083\n",
      "Last Name                                   3.957704\n",
      "Prefix                                     99.969789\n",
      "Suffix                                     95.941591\n",
      "Business Name                               0.000000\n",
      "BusinessDBA                                98.862034\n",
      "Original Issue Date                         0.000000\n",
      "Effective Date                              7.824773\n",
      "Expiration Date                             4.944612\n",
      "City                                        0.110775\n",
      "State                                       0.000000\n",
      "Zip                                         0.715005\n",
      "County                                      4.068479\n",
      "Specialty/Qualifier                         0.614300\n",
      "Controlled Substance Schedule               0.010070\n",
      "Delegated Controlled Substance Schedule     0.000000\n",
      "Ever Disciplined                            0.000000\n",
      "LastModifiedDate                            0.000000\n",
      "Case Number                                 0.000000\n",
      "Action                                      0.010070\n",
      "Discipline Start Date                       0.000000\n",
      "Discipline End Date                         0.000000\n",
      "Discipline Reason                           0.000000\n",
      "dtype: float64\n"
     ]
    }
   ],
   "source": [
    "#Checking for percentage missing values in the dataset\n",
    "missing_percentage = (licenses.isnull().sum() / len(licenses)) * 100\n",
    "print(missing_percentage)"
   ]
  },
  {
   "cell_type": "code",
   "execution_count": 9,
   "id": "2e682eae",
   "metadata": {},
   "outputs": [],
   "source": [
    "# Dropping the columns with more than 90% missing values: \n",
    "licenses.drop(columns=['Title', 'Prefix', 'Suffix', 'BusinessDBA'], inplace=True)"
   ]
  },
  {
   "cell_type": "code",
   "execution_count": 10,
   "id": "47ae17d4",
   "metadata": {},
   "outputs": [],
   "source": [
    "licenses['Middle'].fillna('N/A', inplace=True) "
   ]
  },
  {
   "cell_type": "markdown",
   "id": "2b7c0bcb",
   "metadata": {},
   "source": [
    "For the missing values 'Middle' ( Middle Name) - I have filled the column with \"N/A\". This is done to maintain data integrity while acknowledging the absence of middle names. This ensures consistency without introducing incorrect information, and the middle name can serve as an important identifier in cases where individuals share the same first and last name."
   ]
  },
  {
   "cell_type": "code",
   "execution_count": 11,
   "id": "666a36ff",
   "metadata": {},
   "outputs": [],
   "source": [
    "# Dropping rows with missing values when the percentage of missing data is below 10%\n",
    "licenses.dropna(subset=['License Number', 'First Name', 'Last Name', 'Effective Date','Expiration Date', 'City', 'Zip','County','Specialty/Qualifier', 'Controlled Substance Schedule','Action'], inplace=True)"
   ]
  },
  {
   "cell_type": "code",
   "execution_count": 12,
   "id": "0c19fe41",
   "metadata": {},
   "outputs": [
    {
     "name": "stdout",
     "output_type": "stream",
     "text": [
      "_id                                        0\n",
      "License Type                               0\n",
      "Description                                0\n",
      "License Number                             0\n",
      "License Status                             0\n",
      "Business                                   0\n",
      "First Name                                 0\n",
      "Middle                                     0\n",
      "Last Name                                  0\n",
      "Business Name                              0\n",
      "Original Issue Date                        0\n",
      "Effective Date                             0\n",
      "Expiration Date                            0\n",
      "City                                       0\n",
      "State                                      0\n",
      "Zip                                        0\n",
      "County                                     0\n",
      "Specialty/Qualifier                        0\n",
      "Controlled Substance Schedule              0\n",
      "Delegated Controlled Substance Schedule    0\n",
      "Ever Disciplined                           0\n",
      "LastModifiedDate                           0\n",
      "Case Number                                0\n",
      "Action                                     0\n",
      "Discipline Start Date                      0\n",
      "Discipline End Date                        0\n",
      "Discipline Reason                          0\n",
      "dtype: int64\n"
     ]
    }
   ],
   "source": [
    "# veryfing that there are no missing values in the dataset\n",
    "missing_values = licenses.isnull().sum()\n",
    "print(missing_values)"
   ]
  },
  {
   "cell_type": "code",
   "execution_count": 13,
   "id": "368999ba",
   "metadata": {},
   "outputs": [
    {
     "data": {
      "text/plain": [
       "(8051, 27)"
      ]
     },
     "execution_count": 13,
     "metadata": {},
     "output_type": "execute_result"
    }
   ],
   "source": [
    "# Checking Data Dimensionality after handling missing values\n",
    "licenses.shape"
   ]
  },
  {
   "cell_type": "code",
   "execution_count": 14,
   "id": "ea2b8eda",
   "metadata": {},
   "outputs": [
    {
     "data": {
      "text/plain": [
       "_id                                         int64\n",
       "License Type                               object\n",
       "Description                                object\n",
       "License Number                             object\n",
       "License Status                             object\n",
       "Business                                   object\n",
       "First Name                                 object\n",
       "Middle                                     object\n",
       "Last Name                                  object\n",
       "Business Name                              object\n",
       "Original Issue Date                        object\n",
       "Effective Date                             object\n",
       "Expiration Date                            object\n",
       "City                                       object\n",
       "State                                      object\n",
       "Zip                                        object\n",
       "County                                     object\n",
       "Specialty/Qualifier                        object\n",
       "Controlled Substance Schedule              object\n",
       "Delegated Controlled Substance Schedule    object\n",
       "Ever Disciplined                           object\n",
       "LastModifiedDate                           object\n",
       "Case Number                                object\n",
       "Action                                     object\n",
       "Discipline Start Date                      object\n",
       "Discipline End Date                        object\n",
       "Discipline Reason                          object\n",
       "dtype: object"
      ]
     },
     "execution_count": 14,
     "metadata": {},
     "output_type": "execute_result"
    }
   ],
   "source": [
    "# Checking the data types of each column\n",
    "licenses.dtypes"
   ]
  },
  {
   "cell_type": "code",
   "execution_count": 15,
   "id": "a4797a50",
   "metadata": {},
   "outputs": [],
   "source": [
    "# Converting date columns to datetime\n",
    "licenses['Original Issue Date'] = pd.to_datetime(licenses['Original Issue Date'], errors='coerce', format='%m/%d/%Y')\n",
    "licenses['Effective Date'] = pd.to_datetime(licenses['Effective Date'], errors='coerce', format='%m/%d/%Y')\n",
    "licenses['Expiration Date'] = pd.to_datetime(licenses['Expiration Date'], errors='coerce' , format='%m/%d/%Y')\n",
    "licenses['LastModifiedDate'] = pd.to_datetime(licenses['LastModifiedDate'], errors='coerce', format='%m/%d/%Y')\n",
    "# Creating New Year Columns for above dates \n",
    "licenses['Original Issue Year']= licenses['Original Issue Date'].dt.year\n",
    "licenses['Effective Date Year']= licenses['Effective Date'].dt.year\n",
    "licenses['Expiration Date Year']= licenses['Expiration Date'].dt.year\n",
    "licenses['Last Modified Date Year']= licenses['LastModifiedDate'].dt.year\n"
   ]
  },
  {
   "cell_type": "code",
   "execution_count": 16,
   "id": "76838749",
   "metadata": {},
   "outputs": [
    {
     "data": {
      "text/plain": [
       "_id                                                 int64\n",
       "License Type                                     category\n",
       "Description                                      category\n",
       "License Number                                   category\n",
       "License Status                                   category\n",
       "Business                                         category\n",
       "First Name                                       category\n",
       "Middle                                           category\n",
       "Last Name                                        category\n",
       "Business Name                                    category\n",
       "Original Issue Date                        datetime64[ns]\n",
       "Effective Date                             datetime64[ns]\n",
       "Expiration Date                            datetime64[ns]\n",
       "City                                             category\n",
       "State                                            category\n",
       "Zip                                              category\n",
       "County                                           category\n",
       "Specialty/Qualifier                              category\n",
       "Controlled Substance Schedule                    category\n",
       "Delegated Controlled Substance Schedule          category\n",
       "Ever Disciplined                                 category\n",
       "LastModifiedDate                           datetime64[ns]\n",
       "Case Number                                      category\n",
       "Action                                           category\n",
       "Discipline Start Date                            category\n",
       "Discipline End Date                              category\n",
       "Discipline Reason                                category\n",
       "Original Issue Year                                 int64\n",
       "Effective Date Year                                 int64\n",
       "Expiration Date Year                              float64\n",
       "Last Modified Date Year                             int64\n",
       "dtype: object"
      ]
     },
     "execution_count": 16,
     "metadata": {},
     "output_type": "execute_result"
    }
   ],
   "source": [
    "# Converting object columns to category\n",
    "for col in licenses.select_dtypes(include='object').columns:\n",
    "    licenses[col] = licenses[col].astype('category')\n",
    "# Checking the data types of each column\n",
    "licenses.dtypes"
   ]
  },
  {
   "cell_type": "markdown",
   "id": "f4dda479",
   "metadata": {},
   "source": [
    "In this preprocessing workflow, the dataset is first read from a URL. The states with fewer than 10 records were removed, as they contained insufficient data and then columns with more than 90% missing values are dropped. Missing values in the 'Middle' column are filled with \"N/A\" to maintain data integrity. Rows with missing critical data, such as 'License Number', 'First Name', 'Last Name', 'Effective Date', and others, are dropped. After handling missing values, the dataset's dimensionality is updated, and date columns (such as 'Original Issue Date', 'Effective Date', 'Expiration Date', and 'LastModifiedDate') are converted to the datetime format. New year columns are created from these dates. Finally, all object-type columns are converted to the 'category' data type to optimize memory usage and performance. The preprocessed data is then used for the visulaisations below. "
   ]
  },
  {
   "cell_type": "markdown",
   "id": "32d96092",
   "metadata": {},
   "source": [
    "## Visualisations"
   ]
  },
  {
   "cell_type": "code",
   "execution_count": 17,
   "id": "3ab12f02",
   "metadata": {
    "scrolled": false
   },
   "outputs": [
    {
     "name": "stderr",
     "output_type": "stream",
     "text": [
      "/var/folders/9k/fp5ky6215vdb5ltptvrg3rk40000gn/T/ipykernel_423/463223680.py:14: AltairDeprecationWarning: Deprecated in `altair=5.0.0`. Use selection_point instead.\n",
      "  state_selection := alt.selection_single(fields=['State'], bind=alt.binding_select(options=licenses['State'].unique().tolist(), name='Select State'))\n",
      "/var/folders/9k/fp5ky6215vdb5ltptvrg3rk40000gn/T/ipykernel_423/463223680.py:13: AltairDeprecationWarning: Deprecated in `altair=5.0.0`. Use add_params instead.\n",
      "  ).add_selection(\n"
     ]
    }
   ],
   "source": [
    "# Visualization 1: License Types by State \n",
    "# Bar graph is used\n",
    "\n",
    "bar_chart = alt.Chart(licenses).mark_bar().encode(\n",
    "    x=alt.X('count(id):Q', title='Number of Licenses'),\n",
    "    y=alt.Y('License Type:N', sort='-x', title='License Type'),\n",
    "    color='License Type:N',\n",
    "    tooltip=['License Type:N', 'count(id):Q']\n",
    ").properties(\n",
    "    title='License Types by State',\n",
    "    width=800,\n",
    "    height=400  \n",
    ").add_selection(\n",
    "    state_selection := alt.selection_single(fields=['State'], bind=alt.binding_select(options=licenses['State'].unique().tolist(), name='Select State'))\n",
    ").transform_filter(\n",
    "    state_selection\n",
    ")\n",
    "\n",
    "bar_chart\n",
    "bar_chart.save('License Types by State.html')\n"
   ]
  },
  {
   "cell_type": "markdown",
   "id": "97723c97",
   "metadata": {},
   "source": [
    "### **1. Description**  \n",
    "This bar chart visualizes the distribution of license types across different states. It displays the number of licenses for each type, where the height of each bar represents the frequency of a particular license type within the selected state. By providing a breakdown of license types, the chart helps to understand the prevalence of different types of licenses across states, offering insight into which license types are more common in the chosen state.\n",
    "\n",
    "### **2. Encoding Types**  \n",
    "- **X (Quantitative)**: The `count(id)` variable is used to encode the number of licenses for each license type. The height of each bar represents the number of licenses for that specific type.\n",
    "- **Y (Ordinal)**: The `License Type` variable is encoded on the y-axis, sorted by the number of licenses in descending order to highlight the most frequent license types at the top.\n",
    "- **Color**: Categorical encoding (`License Type`) is used to color the bars by license type, visually distinguishing between the different license types.\n",
    "- **Tooltip**: Displays detailed information on the `License Type` and the corresponding count of licenses when hovering over each bar.\n",
    "\n",
    "### **3. Color Scheme**  \n",
    "A categorical color scheme is applied to differentiate between the different license types. This color differentiation enhances clarity, making it easier for viewers to distinguish between each type of license. The colors are automatically assigned by Altair, ensuring consistent and clear visual communication.\n",
    "\n",
    "### **4. Data Transformations**  \n",
    "The data is filtered based on the selected state, allowing users to view the license type distribution for a specific state. The data is aggregated by `License Type` and the count of licenses (`count(id)`) is calculated to represent the number of licenses for each type. This transformation helps to focus on the specific license type distribution within the state, ensuring that the data is aggregated and presented accurately.\n",
    "\n",
    "### **5. Interactivity**  \n",
    "The bar chart includes an interactive dropdown menu (`state_selection`) that allows users to select a state. This interactivity enables users to dynamically filter the data and examine the license type distribution for any specific state. The dropdown allows for a smooth and flexible exploration of the data.\n",
    "\n",
    "### **6. Impact of Interactivity**  \n",
    "The interactivity of the bar chart enhances its usefulness by allowing users to filter the data based on the selected state. By choosing different states, users can easily compare the license type distribution across various regions. This interaction makes the visualization more personalized and relevant to the user's specific interests, improving data exploration and insight extraction. It also allows for a clearer focus on the license types that are most common in each state, providing a better understanding of regional differences in license distributions.\n"
   ]
  },
  {
   "cell_type": "code",
   "execution_count": 18,
   "id": "94d7e412",
   "metadata": {},
   "outputs": [
    {
     "name": "stderr",
     "output_type": "stream",
     "text": [
      "/var/folders/9k/fp5ky6215vdb5ltptvrg3rk40000gn/T/ipykernel_423/2105283055.py:12: AltairDeprecationWarning: Deprecated in `altair=5.0.0`. Use selection_point instead.\n",
      "  city_selection := alt.selection_single(\n",
      "/var/folders/9k/fp5ky6215vdb5ltptvrg3rk40000gn/T/ipykernel_423/2105283055.py:11: AltairDeprecationWarning: Deprecated in `altair=5.0.0`. Use add_params instead.\n",
      "  ).add_selection(\n"
     ]
    }
   ],
   "source": [
    "# Visualisation 2 : Top 5 License Status Distribution by Cities\n",
    "\n",
    "filtered_data = licenses.groupby('City').filter(lambda x: x['License Status'].nunique() >= 5)\n",
    "\n",
    "pie_chart = alt.Chart(filtered_data).mark_arc().encode(\n",
    "    theta=alt.Theta('count_id:Q', title='Number of Licenses'),\n",
    "    color=alt.Color('License Status:N', title='License Status'),\n",
    "    tooltip=['License Status:N', 'count_id:Q']\n",
    ").properties(\n",
    "    title='Top 5 License Status Distribution by Cities'\n",
    ").add_selection(\n",
    "    city_selection := alt.selection_single(\n",
    "        fields=['City'],\n",
    "        bind=alt.binding_radio(\n",
    "            options=filtered_data['City'].unique().tolist(),\n",
    "            name='Select City'\n",
    "        )\n",
    "    )\n",
    ").transform_filter(\n",
    "    city_selection\n",
    ").transform_aggregate(\n",
    "    count_id='count(id)',\n",
    "    groupby=['City', 'License Status']\n",
    ").transform_window(\n",
    "    rank='rank()',\n",
    "    sort=[\n",
    "        alt.SortField('count_id', order='descending'),\n",
    "        alt.SortField('License Status', order='ascending')  \n",
    "    ]\n",
    ").transform_filter(\n",
    "    alt.datum.rank <= 5\n",
    ")\n",
    "\n",
    "pie_chart\n",
    "pie_chart.save('Top 5 License Status Distribution by Cities.html')"
   ]
  },
  {
   "cell_type": "markdown",
   "id": "26a62831",
   "metadata": {},
   "source": [
    "### **1. Description**  \n",
    "This pie chart visualizes the distribution of the top 5 most frequent license statuses within cities that have at least 5 distinct license types. The chart shows the proportion of each license status within the selected city, with the size of each segment proportional to the number of licenses with that particular status. By focusing on cities with a minimum of 5 license types, this visualization allows users to explore the most common license statuses in more diverse cities with a richer variety of license types.\n",
    "\n",
    "### **2. Encoding Types**  \n",
    "- **Theta (Angle)**: Quantitative encoding (`count_id`) represents the number of licenses with each status, determining the size of the pie segments.\n",
    "- **Color**: Categorical encoding (`License Status`) distinguishes between different license statuses, helping to visually separate the statuses for easier interpretation.\n",
    "- **Tooltip**: Displays detailed information on each license status and the associated count when hovering over the segments.\n",
    "\n",
    "### **3. Color Scheme**  \n",
    "A categorical color scheme is applied to differentiate the license statuses. This ensures that each license status is clearly distinguishable from others, enhancing the visual clarity of the chart. The colors are automatically assigned by Altair, ensuring consistent design and easy differentiation between the statuses.\n",
    "\n",
    "### **4. Data Transformations**  \n",
    "The data is filtered to include only those cities that have at least 5 distinct license types (`filtered_data`). It is then aggregated by `License Status` and `City`, with the `count(id)` computed to show the total number of licenses for each status within the city. The data is then ranked by the count of licenses in descending order, and only the top 5 license statuses for each city are displayed. This transformation allows the focus to be on the most significant license statuses while filtering out cities with fewer types of licenses.\n",
    "\n",
    "### **5. Interactivity**  \n",
    "The pie chart includes an interactive radio button feature (`city_selection`), enabling users to select a city from the list. This allows users to explore the top 5 license statuses for different cities, making the data exploration more dynamic and interactive.\n",
    "\n",
    "### **6. Impact of Interactivity**  \n",
    "Interactivity enhances the usability of the pie chart by allowing users to select a city and view its top 5 license status distribution. This gives users a tailored, more in-depth view of the data, enabling them to focus on specific cities of interest. The radio button selection makes it easier to choose cities from the list without overwhelming the user with too many options at once. Overall, this interaction improves the accessibility of the data and makes the visualization more engaging and customizable."
   ]
  }
 ],
 "metadata": {
  "kernelspec": {
   "display_name": "Python 3 (ipykernel)",
   "language": "python",
   "name": "python3"
  },
  "language_info": {
   "codemirror_mode": {
    "name": "ipython",
    "version": 3
   },
   "file_extension": ".py",
   "mimetype": "text/x-python",
   "name": "python",
   "nbconvert_exporter": "python",
   "pygments_lexer": "ipython3",
   "version": "3.11.5"
  }
 },
 "nbformat": 4,
 "nbformat_minor": 5
}
